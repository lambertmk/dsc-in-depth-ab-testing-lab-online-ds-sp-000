{
 "cells": [
  {
   "cell_type": "markdown",
   "metadata": {},
   "source": [
    "# In Depth A/B Testing - Lab\n",
    "\n",
    "## Introduction\n",
    "\n",
    "In this lab, you'll explore a survey from Kaggle regarding budding data scientists. With this, you'll form some initial hypotheses, and test them using the tools you've acquired to date. \n",
    "\n",
    "## Objectives\n",
    "\n",
    "You will be able to:\n",
    "* Conduct t-tests and an ANOVA on a real-world dataset and interpret the results"
   ]
  },
  {
   "cell_type": "markdown",
   "metadata": {},
   "source": [
    "## Load the Dataset and Perform a Brief Exploration\n",
    "\n",
    "The data is stored in a file called **multipleChoiceResponses_cleaned.csv**. Feel free to check out the original dataset referenced at the bottom of this lab, although this cleaned version will undoubtedly be easier to work with. Additionally, meta-data regarding the questions is stored in a file name **schema.csv**. Load in the data itself as a Pandas DataFrame, and take a moment to briefly get acquainted with it.\n",
    "\n",
    "> Note: If you can't get the file to load properly, try changing the encoding format as in `encoding='latin1'`"
   ]
  },
  {
   "cell_type": "code",
   "execution_count": 3,
   "metadata": {},
   "outputs": [
    {
     "data": {
      "text/html": [
       "<div>\n",
       "<style scoped>\n",
       "    .dataframe tbody tr th:only-of-type {\n",
       "        vertical-align: middle;\n",
       "    }\n",
       "\n",
       "    .dataframe tbody tr th {\n",
       "        vertical-align: top;\n",
       "    }\n",
       "\n",
       "    .dataframe thead th {\n",
       "        text-align: right;\n",
       "    }\n",
       "</style>\n",
       "<table border=\"1\" class=\"dataframe\">\n",
       "  <thead>\n",
       "    <tr style=\"text-align: right;\">\n",
       "      <th></th>\n",
       "      <th>GenderSelect</th>\n",
       "      <th>Country</th>\n",
       "      <th>Age</th>\n",
       "      <th>EmploymentStatus</th>\n",
       "      <th>StudentStatus</th>\n",
       "      <th>LearningDataScience</th>\n",
       "      <th>CodeWriter</th>\n",
       "      <th>CareerSwitcher</th>\n",
       "      <th>CurrentJobTitleSelect</th>\n",
       "      <th>TitleFit</th>\n",
       "      <th>...</th>\n",
       "      <th>JobFactorTitle</th>\n",
       "      <th>JobFactorCompanyFunding</th>\n",
       "      <th>JobFactorImpact</th>\n",
       "      <th>JobFactorRemote</th>\n",
       "      <th>JobFactorIndustry</th>\n",
       "      <th>JobFactorLeaderReputation</th>\n",
       "      <th>JobFactorDiversity</th>\n",
       "      <th>JobFactorPublishingOpportunity</th>\n",
       "      <th>exchangeRate</th>\n",
       "      <th>AdjustedCompensation</th>\n",
       "    </tr>\n",
       "  </thead>\n",
       "  <tbody>\n",
       "    <tr>\n",
       "      <td>0</td>\n",
       "      <td>Non-binary, genderqueer, or gender non-conforming</td>\n",
       "      <td>NaN</td>\n",
       "      <td>NaN</td>\n",
       "      <td>Employed full-time</td>\n",
       "      <td>NaN</td>\n",
       "      <td>NaN</td>\n",
       "      <td>Yes</td>\n",
       "      <td>NaN</td>\n",
       "      <td>DBA/Database Engineer</td>\n",
       "      <td>Fine</td>\n",
       "      <td>...</td>\n",
       "      <td>NaN</td>\n",
       "      <td>NaN</td>\n",
       "      <td>NaN</td>\n",
       "      <td>NaN</td>\n",
       "      <td>NaN</td>\n",
       "      <td>NaN</td>\n",
       "      <td>NaN</td>\n",
       "      <td>NaN</td>\n",
       "      <td>NaN</td>\n",
       "      <td>NaN</td>\n",
       "    </tr>\n",
       "    <tr>\n",
       "      <td>1</td>\n",
       "      <td>Female</td>\n",
       "      <td>United States</td>\n",
       "      <td>30.0</td>\n",
       "      <td>Not employed, but looking for work</td>\n",
       "      <td>NaN</td>\n",
       "      <td>NaN</td>\n",
       "      <td>NaN</td>\n",
       "      <td>NaN</td>\n",
       "      <td>NaN</td>\n",
       "      <td>NaN</td>\n",
       "      <td>...</td>\n",
       "      <td>NaN</td>\n",
       "      <td>NaN</td>\n",
       "      <td>NaN</td>\n",
       "      <td>NaN</td>\n",
       "      <td>NaN</td>\n",
       "      <td>Somewhat important</td>\n",
       "      <td>NaN</td>\n",
       "      <td>NaN</td>\n",
       "      <td>NaN</td>\n",
       "      <td>NaN</td>\n",
       "    </tr>\n",
       "    <tr>\n",
       "      <td>2</td>\n",
       "      <td>Male</td>\n",
       "      <td>Canada</td>\n",
       "      <td>28.0</td>\n",
       "      <td>Not employed, but looking for work</td>\n",
       "      <td>NaN</td>\n",
       "      <td>NaN</td>\n",
       "      <td>NaN</td>\n",
       "      <td>NaN</td>\n",
       "      <td>NaN</td>\n",
       "      <td>NaN</td>\n",
       "      <td>...</td>\n",
       "      <td>Very Important</td>\n",
       "      <td>Very Important</td>\n",
       "      <td>Very Important</td>\n",
       "      <td>Very Important</td>\n",
       "      <td>Very Important</td>\n",
       "      <td>Very Important</td>\n",
       "      <td>Very Important</td>\n",
       "      <td>Very Important</td>\n",
       "      <td>NaN</td>\n",
       "      <td>NaN</td>\n",
       "    </tr>\n",
       "    <tr>\n",
       "      <td>3</td>\n",
       "      <td>Male</td>\n",
       "      <td>United States</td>\n",
       "      <td>56.0</td>\n",
       "      <td>Independent contractor, freelancer, or self-em...</td>\n",
       "      <td>NaN</td>\n",
       "      <td>NaN</td>\n",
       "      <td>Yes</td>\n",
       "      <td>NaN</td>\n",
       "      <td>Operations Research Practitioner</td>\n",
       "      <td>Poorly</td>\n",
       "      <td>...</td>\n",
       "      <td>NaN</td>\n",
       "      <td>NaN</td>\n",
       "      <td>NaN</td>\n",
       "      <td>NaN</td>\n",
       "      <td>NaN</td>\n",
       "      <td>NaN</td>\n",
       "      <td>NaN</td>\n",
       "      <td>NaN</td>\n",
       "      <td>1.0</td>\n",
       "      <td>250000.0</td>\n",
       "    </tr>\n",
       "    <tr>\n",
       "      <td>4</td>\n",
       "      <td>Male</td>\n",
       "      <td>Taiwan</td>\n",
       "      <td>38.0</td>\n",
       "      <td>Employed full-time</td>\n",
       "      <td>NaN</td>\n",
       "      <td>NaN</td>\n",
       "      <td>Yes</td>\n",
       "      <td>NaN</td>\n",
       "      <td>Computer Scientist</td>\n",
       "      <td>Fine</td>\n",
       "      <td>...</td>\n",
       "      <td>NaN</td>\n",
       "      <td>NaN</td>\n",
       "      <td>NaN</td>\n",
       "      <td>NaN</td>\n",
       "      <td>NaN</td>\n",
       "      <td>NaN</td>\n",
       "      <td>NaN</td>\n",
       "      <td>NaN</td>\n",
       "      <td>NaN</td>\n",
       "      <td>NaN</td>\n",
       "    </tr>\n",
       "  </tbody>\n",
       "</table>\n",
       "<p>5 rows × 230 columns</p>\n",
       "</div>"
      ],
      "text/plain": [
       "                                        GenderSelect        Country   Age  \\\n",
       "0  Non-binary, genderqueer, or gender non-conforming            NaN   NaN   \n",
       "1                                             Female  United States  30.0   \n",
       "2                                               Male         Canada  28.0   \n",
       "3                                               Male  United States  56.0   \n",
       "4                                               Male         Taiwan  38.0   \n",
       "\n",
       "                                    EmploymentStatus StudentStatus  \\\n",
       "0                                 Employed full-time           NaN   \n",
       "1                 Not employed, but looking for work           NaN   \n",
       "2                 Not employed, but looking for work           NaN   \n",
       "3  Independent contractor, freelancer, or self-em...           NaN   \n",
       "4                                 Employed full-time           NaN   \n",
       "\n",
       "  LearningDataScience CodeWriter CareerSwitcher  \\\n",
       "0                 NaN        Yes            NaN   \n",
       "1                 NaN        NaN            NaN   \n",
       "2                 NaN        NaN            NaN   \n",
       "3                 NaN        Yes            NaN   \n",
       "4                 NaN        Yes            NaN   \n",
       "\n",
       "              CurrentJobTitleSelect TitleFit  ...  JobFactorTitle  \\\n",
       "0             DBA/Database Engineer     Fine  ...             NaN   \n",
       "1                               NaN      NaN  ...             NaN   \n",
       "2                               NaN      NaN  ...  Very Important   \n",
       "3  Operations Research Practitioner   Poorly  ...             NaN   \n",
       "4                Computer Scientist     Fine  ...             NaN   \n",
       "\n",
       "  JobFactorCompanyFunding JobFactorImpact JobFactorRemote JobFactorIndustry  \\\n",
       "0                     NaN             NaN             NaN               NaN   \n",
       "1                     NaN             NaN             NaN               NaN   \n",
       "2          Very Important  Very Important  Very Important    Very Important   \n",
       "3                     NaN             NaN             NaN               NaN   \n",
       "4                     NaN             NaN             NaN               NaN   \n",
       "\n",
       "  JobFactorLeaderReputation JobFactorDiversity JobFactorPublishingOpportunity  \\\n",
       "0                       NaN                NaN                            NaN   \n",
       "1        Somewhat important                NaN                            NaN   \n",
       "2            Very Important     Very Important                 Very Important   \n",
       "3                       NaN                NaN                            NaN   \n",
       "4                       NaN                NaN                            NaN   \n",
       "\n",
       "  exchangeRate AdjustedCompensation  \n",
       "0          NaN                  NaN  \n",
       "1          NaN                  NaN  \n",
       "2          NaN                  NaN  \n",
       "3          1.0             250000.0  \n",
       "4          NaN                  NaN  \n",
       "\n",
       "[5 rows x 230 columns]"
      ]
     },
     "execution_count": 3,
     "metadata": {},
     "output_type": "execute_result"
    }
   ],
   "source": [
    "#Your code here\n",
    "import pandas as pd\n",
    "import numpy as np\n",
    "import matplotlib.pyplot as plt\n",
    "import seaborn as sns\n",
    "sns.set_style('darkgrid')\n",
    "%matplotlib inline\n",
    "\n",
    "df = pd.read_csv('multipleChoiceResponses_cleaned.csv', encoding = 'latin1')\n",
    "df.head()"
   ]
  },
  {
   "cell_type": "code",
   "execution_count": 6,
   "metadata": {},
   "outputs": [
    {
     "data": {
      "text/html": [
       "<div>\n",
       "<style scoped>\n",
       "    .dataframe tbody tr th:only-of-type {\n",
       "        vertical-align: middle;\n",
       "    }\n",
       "\n",
       "    .dataframe tbody tr th {\n",
       "        vertical-align: top;\n",
       "    }\n",
       "\n",
       "    .dataframe thead th {\n",
       "        text-align: right;\n",
       "    }\n",
       "</style>\n",
       "<table border=\"1\" class=\"dataframe\">\n",
       "  <thead>\n",
       "    <tr style=\"text-align: right;\">\n",
       "      <th></th>\n",
       "      <th>LearningCategorySelftTaught</th>\n",
       "      <th>LearningCategoryOnlineCourses</th>\n",
       "      <th>LearningCategoryWork</th>\n",
       "      <th>LearningCategoryUniversity</th>\n",
       "      <th>LearningCategoryKaggle</th>\n",
       "      <th>LearningCategoryOther</th>\n",
       "      <th>TimeGatheringData</th>\n",
       "      <th>TimeModelBuilding</th>\n",
       "      <th>TimeProduction</th>\n",
       "      <th>TimeVisualizing</th>\n",
       "      <th>TimeFindingInsights</th>\n",
       "      <th>TimeOtherSelect</th>\n",
       "      <th>CompensationAmount</th>\n",
       "      <th>exchangeRate</th>\n",
       "      <th>AdjustedCompensation</th>\n",
       "    </tr>\n",
       "  </thead>\n",
       "  <tbody>\n",
       "    <tr>\n",
       "      <td>count</td>\n",
       "      <td>16236.000000</td>\n",
       "      <td>16253.000000</td>\n",
       "      <td>16238.000000</td>\n",
       "      <td>16249.000000</td>\n",
       "      <td>16253.000000</td>\n",
       "      <td>16221.000000</td>\n",
       "      <td>10657.000000</td>\n",
       "      <td>10655.000000</td>\n",
       "      <td>10644.000000</td>\n",
       "      <td>10656.000000</td>\n",
       "      <td>10650.000000</td>\n",
       "      <td>10640.000000</td>\n",
       "      <td>5.178000e+03</td>\n",
       "      <td>4499.000000</td>\n",
       "      <td>4.343000e+03</td>\n",
       "    </tr>\n",
       "    <tr>\n",
       "      <td>mean</td>\n",
       "      <td>33.596945</td>\n",
       "      <td>25.814680</td>\n",
       "      <td>13.760184</td>\n",
       "      <td>21.133270</td>\n",
       "      <td>4.467212</td>\n",
       "      <td>1.449728</td>\n",
       "      <td>35.680304</td>\n",
       "      <td>27.455279</td>\n",
       "      <td>10.007657</td>\n",
       "      <td>13.639968</td>\n",
       "      <td>9.249953</td>\n",
       "      <td>2.254041</td>\n",
       "      <td>4.129494e+07</td>\n",
       "      <td>0.703416</td>\n",
       "      <td>6.636071e+06</td>\n",
       "    </tr>\n",
       "    <tr>\n",
       "      <td>std</td>\n",
       "      <td>23.781350</td>\n",
       "      <td>24.558786</td>\n",
       "      <td>17.845975</td>\n",
       "      <td>23.784604</td>\n",
       "      <td>10.186693</td>\n",
       "      <td>8.437395</td>\n",
       "      <td>19.364950</td>\n",
       "      <td>17.450835</td>\n",
       "      <td>10.458430</td>\n",
       "      <td>9.947624</td>\n",
       "      <td>12.429025</td>\n",
       "      <td>10.302431</td>\n",
       "      <td>1.965335e+09</td>\n",
       "      <td>0.486681</td>\n",
       "      <td>4.293996e+08</td>\n",
       "    </tr>\n",
       "    <tr>\n",
       "      <td>min</td>\n",
       "      <td>0.000000</td>\n",
       "      <td>0.000000</td>\n",
       "      <td>0.000000</td>\n",
       "      <td>0.000000</td>\n",
       "      <td>0.000000</td>\n",
       "      <td>0.000000</td>\n",
       "      <td>0.000000</td>\n",
       "      <td>0.000000</td>\n",
       "      <td>0.000000</td>\n",
       "      <td>0.000000</td>\n",
       "      <td>0.000000</td>\n",
       "      <td>0.000000</td>\n",
       "      <td>-9.900000e+01</td>\n",
       "      <td>0.000030</td>\n",
       "      <td>-7.351631e+01</td>\n",
       "    </tr>\n",
       "    <tr>\n",
       "      <td>25%</td>\n",
       "      <td>20.000000</td>\n",
       "      <td>10.000000</td>\n",
       "      <td>0.000000</td>\n",
       "      <td>0.000000</td>\n",
       "      <td>0.000000</td>\n",
       "      <td>0.000000</td>\n",
       "      <td>25.000000</td>\n",
       "      <td>15.000000</td>\n",
       "      <td>5.000000</td>\n",
       "      <td>10.000000</td>\n",
       "      <td>0.000000</td>\n",
       "      <td>0.000000</td>\n",
       "      <td>5.000000e+04</td>\n",
       "      <td>0.058444</td>\n",
       "      <td>2.036942e+04</td>\n",
       "    </tr>\n",
       "    <tr>\n",
       "      <td>50%</td>\n",
       "      <td>30.000000</td>\n",
       "      <td>20.000000</td>\n",
       "      <td>10.000000</td>\n",
       "      <td>15.000000</td>\n",
       "      <td>0.000000</td>\n",
       "      <td>0.000000</td>\n",
       "      <td>30.000000</td>\n",
       "      <td>30.000000</td>\n",
       "      <td>10.000000</td>\n",
       "      <td>10.000000</td>\n",
       "      <td>5.000000</td>\n",
       "      <td>0.000000</td>\n",
       "      <td>9.000000e+04</td>\n",
       "      <td>1.000000</td>\n",
       "      <td>5.381217e+04</td>\n",
       "    </tr>\n",
       "    <tr>\n",
       "      <td>75%</td>\n",
       "      <td>50.000000</td>\n",
       "      <td>35.000000</td>\n",
       "      <td>20.000000</td>\n",
       "      <td>40.000000</td>\n",
       "      <td>5.000000</td>\n",
       "      <td>0.000000</td>\n",
       "      <td>50.000000</td>\n",
       "      <td>40.000000</td>\n",
       "      <td>10.000000</td>\n",
       "      <td>15.000000</td>\n",
       "      <td>15.000000</td>\n",
       "      <td>0.000000</td>\n",
       "      <td>1.900000e+05</td>\n",
       "      <td>1.000000</td>\n",
       "      <td>9.566608e+04</td>\n",
       "    </tr>\n",
       "    <tr>\n",
       "      <td>max</td>\n",
       "      <td>100.000000</td>\n",
       "      <td>100.000000</td>\n",
       "      <td>100.000000</td>\n",
       "      <td>100.000000</td>\n",
       "      <td>100.000000</td>\n",
       "      <td>100.000000</td>\n",
       "      <td>100.000000</td>\n",
       "      <td>100.000000</td>\n",
       "      <td>100.000000</td>\n",
       "      <td>100.000000</td>\n",
       "      <td>303.000000</td>\n",
       "      <td>100.000000</td>\n",
       "      <td>1.000000e+11</td>\n",
       "      <td>2.652053</td>\n",
       "      <td>2.829740e+10</td>\n",
       "    </tr>\n",
       "  </tbody>\n",
       "</table>\n",
       "</div>"
      ],
      "text/plain": [
       "       LearningCategorySelftTaught  LearningCategoryOnlineCourses  \\\n",
       "count                 16236.000000                   16253.000000   \n",
       "mean                     33.596945                      25.814680   \n",
       "std                      23.781350                      24.558786   \n",
       "min                       0.000000                       0.000000   \n",
       "25%                      20.000000                      10.000000   \n",
       "50%                      30.000000                      20.000000   \n",
       "75%                      50.000000                      35.000000   \n",
       "max                     100.000000                     100.000000   \n",
       "\n",
       "       LearningCategoryWork  LearningCategoryUniversity  \\\n",
       "count          16238.000000                16249.000000   \n",
       "mean              13.760184                   21.133270   \n",
       "std               17.845975                   23.784604   \n",
       "min                0.000000                    0.000000   \n",
       "25%                0.000000                    0.000000   \n",
       "50%               10.000000                   15.000000   \n",
       "75%               20.000000                   40.000000   \n",
       "max              100.000000                  100.000000   \n",
       "\n",
       "       LearningCategoryKaggle  LearningCategoryOther  TimeGatheringData  \\\n",
       "count            16253.000000           16221.000000       10657.000000   \n",
       "mean                 4.467212               1.449728          35.680304   \n",
       "std                 10.186693               8.437395          19.364950   \n",
       "min                  0.000000               0.000000           0.000000   \n",
       "25%                  0.000000               0.000000          25.000000   \n",
       "50%                  0.000000               0.000000          30.000000   \n",
       "75%                  5.000000               0.000000          50.000000   \n",
       "max                100.000000             100.000000         100.000000   \n",
       "\n",
       "       TimeModelBuilding  TimeProduction  TimeVisualizing  \\\n",
       "count       10655.000000    10644.000000     10656.000000   \n",
       "mean           27.455279       10.007657        13.639968   \n",
       "std            17.450835       10.458430         9.947624   \n",
       "min             0.000000        0.000000         0.000000   \n",
       "25%            15.000000        5.000000        10.000000   \n",
       "50%            30.000000       10.000000        10.000000   \n",
       "75%            40.000000       10.000000        15.000000   \n",
       "max           100.000000      100.000000       100.000000   \n",
       "\n",
       "       TimeFindingInsights  TimeOtherSelect  CompensationAmount  exchangeRate  \\\n",
       "count         10650.000000     10640.000000        5.178000e+03   4499.000000   \n",
       "mean              9.249953         2.254041        4.129494e+07      0.703416   \n",
       "std              12.429025        10.302431        1.965335e+09      0.486681   \n",
       "min               0.000000         0.000000       -9.900000e+01      0.000030   \n",
       "25%               0.000000         0.000000        5.000000e+04      0.058444   \n",
       "50%               5.000000         0.000000        9.000000e+04      1.000000   \n",
       "75%              15.000000         0.000000        1.900000e+05      1.000000   \n",
       "max             303.000000       100.000000        1.000000e+11      2.652053   \n",
       "\n",
       "       AdjustedCompensation  \n",
       "count          4.343000e+03  \n",
       "mean           6.636071e+06  \n",
       "std            4.293996e+08  \n",
       "min           -7.351631e+01  \n",
       "25%            2.036942e+04  \n",
       "50%            5.381217e+04  \n",
       "75%            9.566608e+04  \n",
       "max            2.829740e+10  "
      ]
     },
     "execution_count": 6,
     "metadata": {},
     "output_type": "execute_result"
    }
   ],
   "source": [
    "df.describe()"
   ]
  },
  {
   "cell_type": "markdown",
   "metadata": {},
   "source": [
    "## Wages and Education\n",
    "\n",
    "You've been asked to determine whether education is impactful to salary. Develop a hypothesis test to compare the salaries of those with Master's degrees to those with Bachelor's degrees. Are the two statistically different according to your results?\n",
    "\n",
    "> Note: The relevant features are stored in the 'FormalEducation' and 'AdjustedCompensation' features.\n",
    "\n",
    "You may import the functions stored in the `flatiron_stats.py` file to help perform your hypothesis tests. It contains the stats functions that you previously coded: `welch_t(a,b)`, `welch_df(a, b)`, and `p_value(a, b, two_sided=False)`. \n",
    "\n",
    "Note that `scipy.stats.ttest_ind(a, b, equal_var=False)` performs a two-sided Welch's t-test and that p-values derived from two-sided tests are two times the p-values derived from one-sided tests. See the [documentation](https://docs.scipy.org/doc/scipy/reference/generated/scipy.stats.ttest_ind.html) for more information.    "
   ]
  },
  {
   "cell_type": "code",
   "execution_count": 4,
   "metadata": {},
   "outputs": [],
   "source": [
    "#Your code here\n",
    "import flatiron_stats as fs"
   ]
  },
  {
   "cell_type": "code",
   "execution_count": 7,
   "metadata": {},
   "outputs": [
    {
     "data": {
      "text/plain": [
       "<bound method IndexOpsMixin.value_counts of 0                                        Bachelor's degree\n",
       "1                                          Master's degree\n",
       "2                                          Master's degree\n",
       "3                                          Master's degree\n",
       "4                                          Doctoral degree\n",
       "                               ...                        \n",
       "26389                                      Master's degree\n",
       "26390                                    Bachelor's degree\n",
       "26391                                                  NaN\n",
       "26392                               I prefer not to answer\n",
       "26393    I did not complete any formal education past h...\n",
       "Name: FormalEducation, Length: 26394, dtype: object>"
      ]
     },
     "execution_count": 7,
     "metadata": {},
     "output_type": "execute_result"
    }
   ],
   "source": [
    "df.FormalEducation.value_counts\n",
    "# we'll be using Master's degree and Bachelor's degree"
   ]
  },
  {
   "cell_type": "code",
   "execution_count": 11,
   "metadata": {},
   "outputs": [],
   "source": [
    "# next, name our sub-sets of data\n",
    "edu = 'FormalEducation'\n",
    "comp = 'AdjustedCompensation'\n",
    "\n",
    "master = \"Master's degree\"\n",
    "bach = \"Bachelor's degree\"\n",
    "\n",
    "subset = df[(~df[edu].isnull()) & (~df[comp].isnull())]\n",
    "master_subset = subset[subset[edu]==master][comp]\n",
    "bach_subset = subset[subset[edu]==bach][comp]"
   ]
  },
  {
   "cell_type": "code",
   "execution_count": 12,
   "metadata": {},
   "outputs": [
    {
     "data": {
      "text/plain": [
       "<matplotlib.axes._subplots.AxesSubplot at 0x12376ead0>"
      ]
     },
     "execution_count": 12,
     "metadata": {},
     "output_type": "execute_result"
    },
    {
     "data": {
      "image/png": "[encoded data removed]",
      "text/plain": [
       "<Figure size 432x288 with 1 Axes>"
      ]
     },
     "metadata": {
      "needs_background": "light"
     },
     "output_type": "display_data"
    }
   ],
   "source": [
    "sns.distplot(master_subset)\n",
    "sns.distplot(bach_subset)"
   ]
  },
  {
   "cell_type": "code",
   "execution_count": 15,
   "metadata": {},
   "outputs": [
    {
     "name": "stdout",
     "output_type": "stream",
     "text": [
      "69139.89987120005\n",
      "64887.09799461879\n",
      "53812.17000000001\n",
      "38399.4\n"
     ]
    }
   ],
   "source": [
    "print(master_subset.mean())\n",
    "print(bach_subset.mean())\n",
    "print(master_subset.median())\n",
    "print(bach_subset.median())\n",
    "# means are only $5k apart, but medians are $15k apart\n",
    "# this suggests the bachelor category has some outliers\n",
    "# we can also see that from the graph above (but not in a helpful way)"
   ]
  },
  {
   "cell_type": "code",
   "execution_count": 16,
   "metadata": {},
   "outputs": [
    {
     "data": {
      "text/plain": [
       "0.33077639451272267"
      ]
     },
     "execution_count": 16,
     "metadata": {},
     "output_type": "execute_result"
    }
   ],
   "source": [
    "fs.p_value_welch_ttest(master_subset, bach_subset)"
   ]
  },
  {
   "cell_type": "code",
   "execution_count": 19,
   "metadata": {},
   "outputs": [
    {
     "data": {
      "text/plain": [
       "<matplotlib.axes._subplots.AxesSubplot at 0x1a2e05b110>"
      ]
     },
     "metadata": {},
     "output_type": "display_data"
    },
    {
     "data": {
      "text/plain": [
       "<matplotlib.axes._subplots.AxesSubplot at 0x1a2e05b110>"
      ]
     },
     "metadata": {},
     "output_type": "display_data"
    },
    {
     "data": {
      "image/png": "[encoded data removed]",
      "text/plain": [
       "<Figure size 432x288 with 1 Axes>"
      ]
     },
     "metadata": {
      "needs_background": "light"
     },
     "output_type": "display_data"
    }
   ],
   "source": [
    "display(sns.boxplot(master_subset))\n",
    "display(sns.boxplot(bach_subset))\n",
    "# looks like we have a dot showing that someone(s) makes $1 million\n",
    "# let's limit this to $500k"
   ]
  },
  {
   "cell_type": "code",
   "execution_count": 22,
   "metadata": {},
   "outputs": [],
   "source": [
    "outlier_threshold = 500000\n",
    "master_subset = subset[(subset[edu]==master) & (subset[comp]<=outlier_threshold)][comp]\n",
    "bach_subset = subset[(subset[edu]==bach) & (subset[comp]<=outlier_threshold)][comp]"
   ]
  },
  {
   "cell_type": "code",
   "execution_count": 24,
   "metadata": {},
   "outputs": [
    {
     "name": "stdout",
     "output_type": "stream",
     "text": [
      "AxesSubplot(0.125,0.125;0.775x0.755)\n"
     ]
    },
    {
     "data": {
      "image/png": "[encoded data removed]",
      "text/plain": [
       "<Figure size 432x288 with 1 Axes>"
      ]
     },
     "metadata": {
      "needs_background": "light"
     },
     "output_type": "display_data"
    }
   ],
   "source": [
    "print(sns.boxplot(master_subset))"
   ]
  },
  {
   "cell_type": "code",
   "execution_count": 25,
   "metadata": {},
   "outputs": [
    {
     "data": {
      "text/plain": [
       "<matplotlib.axes._subplots.AxesSubplot at 0x128f9ddd0>"
      ]
     },
     "metadata": {},
     "output_type": "display_data"
    },
    {
     "data": {
      "image/png": "[encoded data removed]",
      "text/plain": [
       "<Figure size 432x288 with 1 Axes>"
      ]
     },
     "metadata": {
      "needs_background": "light"
     },
     "output_type": "display_data"
    }
   ],
   "source": [
    "display(sns.boxplot(bach_subset))"
   ]
  },
  {
   "cell_type": "code",
   "execution_count": 26,
   "metadata": {},
   "outputs": [
    {
     "data": {
      "text/plain": [
       "<matplotlib.axes._subplots.AxesSubplot at 0x1a2e197310>"
      ]
     },
     "execution_count": 26,
     "metadata": {},
     "output_type": "execute_result"
    },
    {
     "data": {
      "image/png": "[encoded data removed]",
      "text/plain": [
       "<Figure size 432x288 with 1 Axes>"
      ]
     },
     "metadata": {
      "needs_background": "light"
     },
     "output_type": "display_data"
    }
   ],
   "source": [
    "sns.distplot(master_subset)\n",
    "sns.distplot(bach_subset)\n",
    "# much better!\n",
    "# that's why the median bach is so far below - there's a spike!"
   ]
  },
  {
   "cell_type": "code",
   "execution_count": 27,
   "metadata": {},
   "outputs": [
    {
     "name": "stdout",
     "output_type": "stream",
     "text": [
      "63976.63281797891\n",
      "53744.35038988485\n",
      "53539.72\n",
      "38292.15\n"
     ]
    },
    {
     "data": {
      "text/plain": [
       "4.4874583271514723e-07"
      ]
     },
     "execution_count": 27,
     "metadata": {},
     "output_type": "execute_result"
    }
   ],
   "source": [
    "print(master_subset.mean())\n",
    "print(bach_subset.mean())\n",
    "print(master_subset.median())\n",
    "print(bach_subset.median())\n",
    "fs.p_value_welch_ttest(master_subset, bach_subset)\n",
    "# these are not that different!"
   ]
  },
  {
   "cell_type": "markdown",
   "metadata": {},
   "source": [
    "## Wages and Education II\n",
    "\n",
    "Now perform a similar statistical test comparing the AdjustedCompensation of those with Bachelor's degrees and those with Doctorates. If you haven't already, be sure to explore the distribution of the AdjustedCompensation feature for any anomalies. "
   ]
  },
  {
   "cell_type": "code",
   "execution_count": 29,
   "metadata": {},
   "outputs": [],
   "source": [
    "#Your code here\n",
    "edu = 'FormalEducation'\n",
    "comp = 'AdjustedCompensation'\n",
    "\n",
    "doctor = \"Doctoral degree\"\n",
    "bach = \"Bachelor's degree\"\n",
    "\n",
    "outlier_threshold = 500000\n",
    "doc_subset = subset[(subset[edu]==doctor) & (subset[comp]<=outlier_threshold)][comp]\n",
    "bach_subset = subset[(subset[edu]==bach) & (subset[comp]<=outlier_threshold)][comp]"
   ]
  },
  {
   "cell_type": "code",
   "execution_count": 30,
   "metadata": {},
   "outputs": [
    {
     "data": {
      "text/plain": [
       "<matplotlib.axes._subplots.AxesSubplot at 0x1a2e075ed0>"
      ]
     },
     "execution_count": 30,
     "metadata": {},
     "output_type": "execute_result"
    },
    {
     "data": {
      "image/png": "[encoded data removed]",
      "text/plain": [
       "<Figure size 432x288 with 1 Axes>"
      ]
     },
     "metadata": {
      "needs_background": "light"
     },
     "output_type": "display_data"
    }
   ],
   "source": [
    "sns.distplot(doc_subset)\n",
    "sns.distplot(bach_subset)\n",
    "# these look much more different than the plots above"
   ]
  },
  {
   "cell_type": "code",
   "execution_count": 31,
   "metadata": {},
   "outputs": [
    {
     "name": "stdout",
     "output_type": "stream",
     "text": [
      "63976.63281797891\n",
      "86194.98163085166\n",
      "53539.72\n",
      "73152.77\n"
     ]
    },
    {
     "data": {
      "text/plain": [
       "0.0"
      ]
     },
     "execution_count": 31,
     "metadata": {},
     "output_type": "execute_result"
    }
   ],
   "source": [
    "print(master_subset.mean())\n",
    "print(doc_subset.mean())\n",
    "print(master_subset.median())\n",
    "print(doc_subset.median())\n",
    "fs.p_value_welch_ttest(master_subset, doc_subset)\n",
    "# yes, these are statistically different"
   ]
  },
  {
   "cell_type": "markdown",
   "metadata": {},
   "source": [
    "## Wages and Education III\n",
    "\n",
    "Remember the multiple comparisons problem; rather than continuing on like this, perform an ANOVA test between the various 'FormalEducation' categories and their relation to 'AdjustedCompensation'."
   ]
  },
  {
   "cell_type": "code",
   "execution_count": 32,
   "metadata": {},
   "outputs": [
    {
     "name": "stdout",
     "output_type": "stream",
     "text": [
      "                          sum_sq      df         F    PR(>F)\n",
      "C(FormalEducation)  6.540294e+17     6.0  0.590714  0.738044\n",
      "Residual            7.999414e+20  4335.0       NaN       NaN\n"
     ]
    }
   ],
   "source": [
    "import statsmodels.api as sm\n",
    "from statsmodels.formula.api import ols\n",
    "\n",
    "formula = '{} ~ C({})'.format(f2, f1)\n",
    "lm = ols(formula, df).fit()\n",
    "table = sm.stats.anova_lm(lm, typ=2)\n",
    "print(table)"
   ]
  },
  {
   "cell_type": "code",
   "execution_count": 33,
   "metadata": {},
   "outputs": [
    {
     "name": "stdout",
     "output_type": "stream",
     "text": [
      "                          sum_sq      df          F        PR(>F)\n",
      "C(FormalEducation)  5.841881e+11     6.0  29.224224  1.727132e-34\n",
      "Residual            1.439270e+13  4320.0        NaN           NaN\n"
     ]
    }
   ],
   "source": [
    "temp = df[df[f2]<=5*10**5]\n",
    "formula = '{} ~ C({})'.format(f2, f1)\n",
    "lm = ols(formula, temp).fit()\n",
    "table = sm.stats.anova_lm(lm, typ=2)\n",
    "print(table)"
   ]
  },
  {
   "cell_type": "markdown",
   "metadata": {},
   "source": [
    "## Additional Resources\n",
    "\n",
    "Here's the original source where the data was taken from:  \n",
    "    [Kaggle Machine Learning & Data Science Survey 2017](https://www.kaggle.com/kaggle/kaggle-survey-2017)"
   ]
  },
  {
   "cell_type": "markdown",
   "metadata": {},
   "source": [
    "## Summary\n",
    "\n",
    "In this lab, you practiced conducting actual hypothesis tests on actual data. From this, you saw how dependent results can be on the initial problem formulation, including preprocessing!"
   ]
  }
 ],
 "metadata": {
  "kernelspec": {
   "display_name": "Python 3",
   "language": "python",
   "name": "python3"
  },
  "language_info": {
   "codemirror_mode": {
    "name": "ipython",
    "version": 3
   },
   "file_extension": ".py",
   "mimetype": "text/x-python",
   "name": "python",
   "nbconvert_exporter": "python",
   "pygments_lexer": "ipython3",
   "version": "3.7.4"
  },
  "toc": {
   "base_numbering": 1,
   "nav_menu": {},
   "number_sections": true,
   "sideBar": true,
   "skip_h1_title": false,
   "title_cell": "Table of Contents",
   "title_sidebar": "Contents",
   "toc_cell": false,
   "toc_position": {},
   "toc_section_display": true,
   "toc_window_display": false
  }
 },
 "nbformat": 4,
 "nbformat_minor": 2
}
